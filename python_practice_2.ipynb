{
  "nbformat": 4,
  "nbformat_minor": 0,
  "metadata": {
    "colab": {
      "provenance": [],
      "include_colab_link": true
    },
    "kernelspec": {
      "name": "python3",
      "display_name": "Python 3"
    },
    "language_info": {
      "name": "python"
    }
  },
  "cells": [
    {
      "cell_type": "markdown",
      "metadata": {
        "id": "view-in-github",
        "colab_type": "text"
      },
      "source": [
        "<a href=\"https://colab.research.google.com/github/vladshakhtar/python-for-big-data-and-science/blob/python_practice_2/python_practice_2.ipynb\" target=\"_parent\"><img src=\"https://colab.research.google.com/assets/colab-badge.svg\" alt=\"Open In Colab\"/></a>"
      ]
    },
    {
      "cell_type": "markdown",
      "source": [
        "# I. Змінні та памʼять."
      ],
      "metadata": {
        "id": "p9wwt0LZzNvn"
      }
    },
    {
      "cell_type": "markdown",
      "source": [
        "1. Створити змінні, що посилаються на два цілих числа, що однакові за значенням, де значення належить проміжку від -5 до 256. Перевірте, чи будуть ці змінні рівні тільки за значенням або ж ще будуть посилатися на один і той самий обʼєкт в памʼяті? Наведіть код та дайте текстову відповідь нижче."
      ],
      "metadata": {
        "id": "HTJrrm95xSV9"
      }
    },
    {
      "cell_type": "code",
      "execution_count": null,
      "metadata": {
        "id": "TATni2vzayjG",
        "colab": {
          "base_uri": "https://localhost:8080/"
        },
        "outputId": "a4202de2-4467-478b-bd3a-a2667a116e58"
      },
      "outputs": [
        {
          "output_type": "stream",
          "name": "stdout",
          "text": [
            "Equal in value check: True\n",
            "Same object check: True\n"
          ]
        }
      ],
      "source": [
        "# Create two variables with equal integer values within the range from -5 to 256\n",
        "x = 100\n",
        "y = 100\n",
        "\n",
        "# Check if they are equal in value\n",
        "print(\"Equal in value check:\", x == y)\n",
        "\n",
        "# Check if they refer to the same object in memory\n",
        "print(\"Same object check:\", x is y)"
      ]
    },
    {
      "cell_type": "markdown",
      "source": [
        "*місце для текстової відповіді\n",
        "\n",
        "> В обидвох випадках результат був true, що  вказує на те, що змінні не тільки мають однакове значення, але й посилаються на один і той самий об'єкт у пам'яті.\n",
        "\n",
        "\n"
      ],
      "metadata": {
        "id": "zfRG_o3WbRdg"
      }
    },
    {
      "cell_type": "markdown",
      "source": [
        "2. За допомогою якої функції можна перевірити належність змінної до вказаного типу даних (напр. чи змінна True посилається на значення булевого та цілочисленого типу)?"
      ],
      "metadata": {
        "id": "ISORzt6M3vAt"
      }
    },
    {
      "cell_type": "code",
      "source": [
        "# Define a variable\n",
        "variable = True\n",
        "\n",
        "# Check if the variable is a Boolean\n",
        "is_boolean = isinstance(variable, bool)\n",
        "print(\"Is Boolean:\", is_boolean)\n",
        "\n",
        "# Check if the variable is an integer and not a boolean\n",
        "is_integer_not_boolean = isinstance(variable, int) and not isinstance(variable, bool)\n",
        "print(\"Is Integer (not Boolean):\", is_integer_not_boolean)\n",
        "\n"
      ],
      "metadata": {
        "id": "9vL9CFaMbfyo",
        "colab": {
          "base_uri": "https://localhost:8080/"
        },
        "outputId": "c11c6c35-29e0-4aa7-a88f-6d6bb8e32941"
      },
      "execution_count": null,
      "outputs": [
        {
          "output_type": "stream",
          "name": "stdout",
          "text": [
            "Is Boolean: True\n",
            "Is Integer (not Boolean): False\n"
          ]
        }
      ]
    },
    {
      "cell_type": "markdown",
      "source": [
        "# II. Цілі числа та числа з рухомою комою"
      ],
      "metadata": {
        "id": "tRxugKAxwYLw"
      }
    },
    {
      "cell_type": "markdown",
      "source": [
        "3. Створити дві змінні, що посилаються на будь-які ціле число та число з рухомою комою та продемонструвати такі арифметичні операції: додавання, віднімання, ділення, множення, ділення без залишку, ділення по модулю, приведення до ступеню. Всі результати операцій вивести на екран."
      ],
      "metadata": {
        "id": "NLHkgd5Gybc8"
      }
    },
    {
      "cell_type": "code",
      "source": [
        "# Define variables\n",
        "integer_variable = 10\n",
        "float_variable = 3.5\n",
        "\n",
        "# Addition\n",
        "addition_result = integer_variable + float_variable\n",
        "print(\"Addition:\", addition_result)\n",
        "\n",
        "# Subtraction\n",
        "subtraction_result = integer_variable - float_variable\n",
        "print(\"Subtraction:\", subtraction_result)\n",
        "\n",
        "# Division\n",
        "division_result = integer_variable / float_variable\n",
        "print(\"Division:\", division_result)\n",
        "\n",
        "# Multiplication\n",
        "multiplication_result = integer_variable * float_variable\n",
        "print(\"Multiplication:\", multiplication_result)\n",
        "\n",
        "# Division without remainder (Floor division)\n",
        "floor_division_result = integer_variable // float_variable\n",
        "print(\"Division without remainder:\", floor_division_result)\n",
        "\n",
        "# Modulo division\n",
        "modulo_result = integer_variable % float_variable\n",
        "print(\"Modulo division:\", modulo_result)\n",
        "\n",
        "# Exponentiation\n",
        "exponentiation_result = integer_variable ** float_variable\n",
        "print(\"Exponentiation:\", exponentiation_result)\n"
      ],
      "metadata": {
        "id": "nb8u_3pjb2cA",
        "colab": {
          "base_uri": "https://localhost:8080/"
        },
        "outputId": "0005bc8b-cff4-4a3f-f5a9-c6536bf096b2"
      },
      "execution_count": null,
      "outputs": [
        {
          "output_type": "stream",
          "name": "stdout",
          "text": [
            "Addition: 13.5\n",
            "Subtraction: 6.5\n",
            "Division: 2.857142857142857\n",
            "Multiplication: 35.0\n",
            "Division without remainder: 2.0\n",
            "Modulo division: 3.0\n",
            "Exponentiation: 3162.2776601683795\n"
          ]
        }
      ]
    },
    {
      "cell_type": "markdown",
      "source": [
        "\n",
        "\n",
        "```\n",
        "# Выбран кодовый формат\n",
        "\n",
        "```\n",
        "# Выбран кодовый формат\n",
        "```\n",
        "\n",
        "\n",
        "```\n",
        "\n",
        "4. Використовуючи змінні з вправи 3, продемонструйте механізм явного перетворення типів, де числа з рухомою комою перетворюються на цілі числа. Також визначте змінну, що посилається на значення булевого типу і спробуйте явно привести її до цілого числа."
      ],
      "metadata": {
        "id": "1kBClKgPzZnC"
      }
    },
    {
      "cell_type": "code",
      "source": [
        "# Variables from the previous task\n",
        "integer_variable = 10\n",
        "float_variable = 3.5\n",
        "boolean_variable = True\n",
        "\n",
        "# Convert floating point number to integer\n",
        "converted_float_to_int = int(float_variable)\n",
        "print(\"Converted float to integer:\", converted_float_to_int)\n",
        "\n",
        "# Cast boolean to integer\n",
        "cast_boolean_to_int = int(boolean_variable)\n",
        "print(\"Cast boolean to integer:\", cast_boolean_to_int)\n"
      ],
      "metadata": {
        "id": "TbqJbkeUcKsD",
        "colab": {
          "base_uri": "https://localhost:8080/"
        },
        "outputId": "193c2a1d-5986-483f-84f8-99e5d2a45f1d"
      },
      "execution_count": null,
      "outputs": [
        {
          "output_type": "stream",
          "name": "stdout",
          "text": [
            "Converted float to integer: 3\n",
            "Cast boolean to integer: 1\n"
          ]
        }
      ]
    },
    {
      "cell_type": "markdown",
      "source": [
        "# IІІ. Рядки (String)."
      ],
      "metadata": {
        "id": "EVJ7AflwxrZi"
      }
    },
    {
      "cell_type": "markdown",
      "source": [
        "5. Створити пустий рядок двома різними способами."
      ],
      "metadata": {
        "id": "_s5ECzz9zE61"
      }
    },
    {
      "cell_type": "code",
      "source": [
        "empty_string1 = ''\n",
        "empty_string2 = str()"
      ],
      "metadata": {
        "id": "fkZJHu9Scvc-"
      },
      "execution_count": null,
      "outputs": []
    },
    {
      "cell_type": "markdown",
      "source": [
        "6. Створити рядок з апострофом. Зробити його сирим. Вивести обидва рядка на екран."
      ],
      "metadata": {
        "id": "4Bdn9J3MzLf_"
      }
    },
    {
      "cell_type": "code",
      "source": [
        "# String with an apostrophe using triple single quotes (raw)\n",
        "raw_string = r'''This is a string with an apostrophe: ' '''\n",
        "\n",
        "# Display both strings\n",
        "print(\"Raw String:\", raw_string)\n"
      ],
      "metadata": {
        "id": "ivji_hsmc0GH",
        "colab": {
          "base_uri": "https://localhost:8080/"
        },
        "outputId": "3a8fddbc-34b2-4901-e99a-124ffecdec81"
      },
      "execution_count": null,
      "outputs": [
        {
          "output_type": "stream",
          "name": "stdout",
          "text": [
            "Raw String: This is a string with an apostrophe: ' \n"
          ]
        }
      ]
    },
    {
      "cell_type": "markdown",
      "source": [
        "7. Створити змінну, що буде посилатися на Ваше прізвище латинкою. Створити форматований рядок, який буде мати вигляд \"My surname is ______\", де на місці нижніх підкреслень буде Ваше прізвище зі змінної."
      ],
      "metadata": {
        "id": "bg_d8wM4z8dS"
      }
    },
    {
      "cell_type": "code",
      "source": [
        "# Define the variable referring to the last name in Latin\n",
        "latin_last_name = \"Stoliarov\"\n",
        "\n",
        "# Create the formatted string\n",
        "formatted_string = f\"My surname is {'_'.join(latin_last_name.lower())}\"\n",
        "\n",
        "# Display the formatted string\n",
        "print(formatted_string)\n"
      ],
      "metadata": {
        "id": "kuxFgpWndACq",
        "colab": {
          "base_uri": "https://localhost:8080/"
        },
        "outputId": "1f984eec-0e25-4e71-de8c-a7f79d36b221"
      },
      "execution_count": null,
      "outputs": [
        {
          "output_type": "stream",
          "name": "stdout",
          "text": [
            "My surname is s_t_o_l_i_a_r_o_v\n"
          ]
        }
      ]
    },
    {
      "cell_type": "markdown",
      "source": [
        "8. Маючи рядок \"My dog is crazy.\" перетворити його на список [\"my\", \"dog\", \"is\", \"crazy\"]"
      ],
      "metadata": {
        "id": "1Nc6RqvQ0hxU"
      }
    },
    {
      "cell_type": "code",
      "source": [
        "# Given string\n",
        "given_string = \"My dog is crazy.\"\n",
        "\n",
        "# Split the string into a list of words\n",
        "word_list = given_string.lower().split()\n",
        "\n",
        "# Display the list\n",
        "print(word_list)\n"
      ],
      "metadata": {
        "id": "w1Ya4RqedUhw",
        "colab": {
          "base_uri": "https://localhost:8080/"
        },
        "outputId": "7f60d9c4-384e-40f1-c8d0-dfcd8e141827"
      },
      "execution_count": null,
      "outputs": [
        {
          "output_type": "stream",
          "name": "stdout",
          "text": [
            "['my', 'dog', 'is', 'crazy.']\n"
          ]
        }
      ]
    },
    {
      "cell_type": "markdown",
      "source": [
        "# IV. Робота зі списками."
      ],
      "metadata": {
        "id": "GYVqN9uP1D4n"
      }
    },
    {
      "cell_type": "markdown",
      "source": [
        "9. Створити список двома різними за синтаксисом способами. За допомогою вбудованої функції обчисліть довжину одного з них."
      ],
      "metadata": {
        "id": "7-DeDunw2sO-"
      }
    },
    {
      "cell_type": "code",
      "source": [
        "# First syntax: Using square brackets []\n",
        "list1 = [1, 2, 3, 4, 5]\n",
        "\n",
        "# Second syntax: Using the list() constructor\n",
        "list2 = list(range(1, 6))\n",
        "\n",
        "# Calculate the length of list1 using the len() function\n",
        "length_of_list1 = len(list1)\n",
        "\n",
        "# Display both lists and the length of list1\n",
        "print(\"List 1:\", list1)\n",
        "print(\"List 2:\", list2)\n",
        "print(\"Length of List 1:\", length_of_list1)\n"
      ],
      "metadata": {
        "id": "zxg06Uuxdyoh",
        "colab": {
          "base_uri": "https://localhost:8080/"
        },
        "outputId": "14d9c4d4-25fa-4362-bc52-92902362b01a"
      },
      "execution_count": null,
      "outputs": [
        {
          "output_type": "stream",
          "name": "stdout",
          "text": [
            "List 1: [1, 2, 3, 4, 5]\n",
            "List 2: [1, 2, 3, 4, 5]\n",
            "Length of List 1: 5\n"
          ]
        }
      ]
    },
    {
      "cell_type": "markdown",
      "source": [
        "10. Створіть два списка та за допомогою спеціального методу додайте другий з них в якості останнього елемента першого."
      ],
      "metadata": {
        "id": "8vmGUTjL22gI"
      }
    },
    {
      "cell_type": "code",
      "source": [
        "# Create two lists\n",
        "first_list = [1, 2, 3]\n",
        "second_list = [4, 5, 6]\n",
        "\n",
        "# Add all elements from the second list to the end of the first list\n",
        "first_list.extend(second_list)\n",
        "\n",
        "# Display the updated first list\n",
        "print(\"Updated First List:\", first_list)\n"
      ],
      "metadata": {
        "id": "uHtjWYw7d7hm",
        "colab": {
          "base_uri": "https://localhost:8080/"
        },
        "outputId": "63b5ae9c-b7eb-4c98-fe66-95271d96fbc1"
      },
      "execution_count": null,
      "outputs": [
        {
          "output_type": "stream",
          "name": "stdout",
          "text": [
            "Updated First List: [1, 2, 3, 4, 5, 6]\n"
          ]
        }
      ]
    },
    {
      "cell_type": "markdown",
      "source": [
        "11. Створіть список, де елементами цього списку також є списки. Отримай перший елемент з останнього рядка та виведи значення на екран."
      ],
      "metadata": {
        "id": "JC3BkD-67_--"
      }
    },
    {
      "cell_type": "code",
      "source": [
        "# Create a list where the elements are also lists\n",
        "nested_list = [[1, 2, 3], [4, 5, 6], [7, 8, 9]]\n",
        "\n",
        "# Get the first element of the last line\n",
        "first_element_last_line = nested_list[-1][0]\n",
        "\n",
        "# Print the value to the screen\n",
        "print(\"First element of the last line:\", first_element_last_line)\n"
      ],
      "metadata": {
        "id": "Kz2jZHsGeLlz",
        "colab": {
          "base_uri": "https://localhost:8080/"
        },
        "outputId": "5cee861b-1041-44ab-e60b-a9cc0e62af0c"
      },
      "execution_count": null,
      "outputs": [
        {
          "output_type": "stream",
          "name": "stdout",
          "text": [
            "First element of the last line: 7\n"
          ]
        }
      ]
    },
    {
      "cell_type": "markdown",
      "source": [
        "12. Створіть список з десяти елементів різного типу. Отримайте всі елементи, окрім двох перших та двох останніх та збережіть їх в новій змінній."
      ],
      "metadata": {
        "id": "JA47PKTv8zFK"
      }
    },
    {
      "cell_type": "code",
      "source": [
        "# Create a list of ten items of different types\n",
        "original_list = [1, \"two\", 3.0, True, (4, 5), [6, 7], {\"eight\": 8}, None, \"nine\", {10}]\n",
        "\n",
        "# Extract all items except the first two and the last two into a new variable\n",
        "new_variable = original_list[2:-2]\n",
        "\n",
        "# Display the new variable\n",
        "print(\"New variable:\", new_variable)\n"
      ],
      "metadata": {
        "id": "_rHdUR-ueP4-",
        "colab": {
          "base_uri": "https://localhost:8080/"
        },
        "outputId": "f02497c2-63de-4077-8eae-007227abce9b"
      },
      "execution_count": null,
      "outputs": [
        {
          "output_type": "stream",
          "name": "stdout",
          "text": [
            "New variable: [3.0, True, (4, 5), [6, 7], {'eight': 8}, None]\n"
          ]
        }
      ]
    },
    {
      "cell_type": "markdown",
      "source": [
        "# V. Робота з кортежами."
      ],
      "metadata": {
        "id": "pCjR1dJb1Qbi"
      }
    },
    {
      "cell_type": "markdown",
      "source": [
        "14. Створити кортеж з один елементом."
      ],
      "metadata": {
        "id": "fAZCxAX06R_k"
      }
    },
    {
      "cell_type": "code",
      "source": [
        "# Tuple with one element\n",
        "single_element_tuple = (42,)\n",
        "\n",
        "# Display the tuple\n",
        "print(\"Single element tuple:\", single_element_tuple)\n"
      ],
      "metadata": {
        "id": "H7d82WkQev3e",
        "colab": {
          "base_uri": "https://localhost:8080/"
        },
        "outputId": "24af2abf-cbe4-434f-fe90-ddc9e8ba1d60"
      },
      "execution_count": null,
      "outputs": [
        {
          "output_type": "stream",
          "name": "stdout",
          "text": [
            "Single element tuple: (42,)\n"
          ]
        }
      ]
    },
    {
      "cell_type": "markdown",
      "source": [
        "15. Порівняйте список та кортеж. Назвіть схожості та відмінності, випадки використання."
      ],
      "metadata": {
        "id": "8LCtYcmI6w1M"
      }
    },
    {
      "cell_type": "markdown",
      "source": [
        "*місце для текстової відповіді\n",
        "\n",
        "> Подібності:\n",
        "\n",
        "\n",
        "Послідовні дані: Як списки, так і кортежі є впорядкованими колекціями елементів.\n",
        "\n",
        "Індексування: Ви можете отримати доступ до елементів як у списках, так і в кортежах за допомогою індексних номерів.\n",
        "\n",
        "Ітерації: Ви можете ітерувати як списки, так і кортежі за допомогою циклів.\n",
        "\n",
        "\n",
        "\n",
        "Відмінності:\n",
        "\n",
        "Змінюваність:\n",
        "Списки можна змінювати, тобто ви можете додавати, видаляти або модифікувати елементи після створення списку.\n",
        "Кортежі є незмінними, тобто після створення ви не можете змінювати елементи кортежу.\n",
        "\n",
        "Синтаксис:\n",
        "Списки створюються за допомогою квадратних дужок [].\n",
        "Кортежі створюються за допомогою круглих дужок ().\n",
        "\n",
        "Розмір:\n",
        "Списки зазвичай займають більше пам'яті, ніж кортежі, оскільки списки підтримують мутабельність, що вимагає додаткового простору для потенційної зміни розміру.\n",
        "Кортежі ефективніше використовують пам'ять, оскільки вони незмінні і їхній розмір не може змінитися після створення.\n",
        "\n",
        "Варіанти використання:\n",
        "\n",
        "Списки:\n",
        "\n",
        "Списки підходять для ситуацій, коли вам потрібна колекція елементів, які можна змінювати, наприклад, для підтримки динамічного списку вхідних даних користувача, обробки даних, які потрібно змінити, або для реалізації структур даних, таких як стеки або черги.\n",
        "Списки зазвичай використовуються для представлення послідовностей даних, які можуть змінюватися з часом, наприклад, списків справ, списків покупок або колекцій користувацьких вподобань.\n",
        "\n",
        "Кортежі:\n",
        "\n",
        "Кортежі ідеально підходять для ситуацій, коли ви маєте фіксовану послідовність елементів, які не плануєте змінювати, наприклад, для представлення координат, записів у базі даних або повернення декількох значень з функції.\n",
        "Кортежі часто використовуються у випадках, коли важлива цілісність і незмінність даних, наприклад, ключі словників (оскільки вони повинні бути хешованими) або аргументи функцій, коли ви хочете переконатися, що функція не змінить вхідні значення ненавмисно.\n",
        "\n"
      ],
      "metadata": {
        "id": "fUsN1Hnue0C6"
      }
    },
    {
      "cell_type": "markdown",
      "source": [
        "16. Створіть кортеж з 11ти елементів чисел з рухомою комою та отримайте кожен парний за індексом елемент в зворотньому порядку. Наприклад, маючи (1.2, 2.3, 3.3, 4.3, 5.3, 6.3, 7.3, 8.3, 9.3, 0.3), отримати (0.3, 8.3, 6.3, 4.3, 2.3). Результат збережіть в нову змінну та виведіть на екран."
      ],
      "metadata": {
        "id": "m0xrwFijAmDD"
      }
    },
    {
      "cell_type": "code",
      "source": [
        "# Create a tuple of 11 floating-point numbers\n",
        "original_tuple = (1.2, 2.3, 3.3, 4.3, 5.3, 6.3, 7.3, 8.3, 9.3, 0.3, 11.3)\n",
        "\n",
        "# Get each even-indexed element in reverse order\n",
        "reversed_even_indexed = original_tuple[::-2]\n",
        "\n",
        "# Display the result\n",
        "print(\"Result:\", reversed_even_indexed)\n"
      ],
      "metadata": {
        "id": "p-5DAH6XfAGA",
        "colab": {
          "base_uri": "https://localhost:8080/"
        },
        "outputId": "e7b25992-9d5a-4669-cd00-9eafc88402ae"
      },
      "execution_count": null,
      "outputs": [
        {
          "output_type": "stream",
          "name": "stdout",
          "text": [
            "Result: (11.3, 9.3, 7.3, 5.3, 3.3, 1.2)\n"
          ]
        }
      ]
    },
    {
      "cell_type": "markdown",
      "source": [
        "# VI. Множини (Set)."
      ],
      "metadata": {
        "id": "rW_I9dt3x6cW"
      }
    },
    {
      "cell_type": "markdown",
      "source": [
        "17. Створити множину без елементів. Після цого за допомогою методу додайте кілька різних елементів до множини. Чи множини є змінним типом даних?"
      ],
      "metadata": {
        "id": "zNjRLHLw1Bgg"
      }
    },
    {
      "cell_type": "code",
      "source": [
        "# Create an empty set\n",
        "my_set = set()\n",
        "\n",
        "# Add several different elements to the set\n",
        "my_set.add(1)\n",
        "my_set.add('hello')\n",
        "my_set.add(3.14)\n",
        "\n",
        "# Display the set\n",
        "print(\"Set with added elements:\", my_set)\n"
      ],
      "metadata": {
        "id": "KOv7zc2Kfo4N",
        "colab": {
          "base_uri": "https://localhost:8080/"
        },
        "outputId": "57e1d333-59a1-4089-f96f-49164496298e"
      },
      "execution_count": null,
      "outputs": [
        {
          "output_type": "stream",
          "name": "stdout",
          "text": [
            "Set with added elements: {1, 3.14, 'hello'}\n"
          ]
        }
      ]
    },
    {
      "cell_type": "markdown",
      "source": [
        "*місце для текстової відповіді\n",
        "\n",
        "\n",
        "> Так, множина це змінний тип даних.\n",
        "\n"
      ],
      "metadata": {
        "id": "vxS6dVYiftZQ"
      }
    },
    {
      "cell_type": "markdown",
      "source": [
        "18. Створити множину, маючи список my_list = [1, 1, 2, 67, 67, 8, 9]. Пояснити, чому \"зникли\" деякі елементи."
      ],
      "metadata": {
        "id": "gHpT0Zw_1HEF"
      }
    },
    {
      "cell_type": "code",
      "source": [
        "# Given list\n",
        "my_list = [1, 1, 2, 67, 67, 8, 9]\n",
        "\n",
        "# Create a set from the list\n",
        "my_set = set(my_list)\n",
        "\n",
        "# Display the set\n",
        "print(\"Set:\", my_set)\n"
      ],
      "metadata": {
        "id": "qCN4uvJ_fxmu",
        "colab": {
          "base_uri": "https://localhost:8080/"
        },
        "outputId": "335b132b-7d94-4c8a-aa3b-81676631a94b"
      },
      "execution_count": null,
      "outputs": [
        {
          "output_type": "stream",
          "name": "stdout",
          "text": [
            "Set: {1, 2, 67, 8, 9}\n"
          ]
        }
      ]
    },
    {
      "cell_type": "markdown",
      "source": [
        "*місце для текстової відповіді\n",
        "\n",
        "\n",
        "Множини у Python містять лише унікальні елементи. Коли ви створюєте множину зі списку, повторювані елементи автоматично видаляються. У заданому списку my_list елементи 1 та 67 зустрічаються декілька разів. Однак у результуючому наборі кожен унікальний елемент з'являється лише один раз. Тому дублікати в наборі відсутні."
      ],
      "metadata": {
        "id": "tFNc1e20fyny"
      }
    },
    {
      "cell_type": "markdown",
      "source": [
        "19. Створіть дві множини. Продемонстуйте над ними операції: обʼєднання, різниці, пересічі та симетричної різниці. Використовуйте методи, що не змінюють множини, а створюють нові."
      ],
      "metadata": {
        "id": "SRMkGizS1UwY"
      }
    },
    {
      "cell_type": "code",
      "source": [
        "# Create two sets\n",
        "set1 = {1, 2, 3, 4, 5}\n",
        "set2 = {4, 5, 6, 7, 8}\n",
        "\n",
        "# Union\n",
        "union_set = set1.union(set2)\n",
        "\n",
        "# Difference\n",
        "difference_set = set1.difference(set2)\n",
        "\n",
        "# Intersection\n",
        "intersection_set = set1.intersection(set2)\n",
        "\n",
        "# Symmetric difference\n",
        "symmetric_difference_set = set1.symmetric_difference(set2)\n",
        "\n",
        "# Display the original sets and the results of the operations\n",
        "print(\"Set 1:\", set1)\n",
        "print(\"Set 2:\", set2)\n",
        "print(\"Union:\", union_set)\n",
        "print(\"Difference (set1 - set2):\", difference_set)\n",
        "print(\"Intersection:\", intersection_set)\n",
        "print(\"Symmetric Difference:\", symmetric_difference_set)\n"
      ],
      "metadata": {
        "id": "h0T-VuDnf3Ri",
        "colab": {
          "base_uri": "https://localhost:8080/"
        },
        "outputId": "083fda28-e31d-4aa0-906d-40d3f8b31e3c"
      },
      "execution_count": null,
      "outputs": [
        {
          "output_type": "stream",
          "name": "stdout",
          "text": [
            "Set 1: {1, 2, 3, 4, 5}\n",
            "Set 2: {4, 5, 6, 7, 8}\n",
            "Union: {1, 2, 3, 4, 5, 6, 7, 8}\n",
            "Difference (set1 - set2): {1, 2, 3}\n",
            "Intersection: {4, 5}\n",
            "Symmetric Difference: {1, 2, 3, 6, 7, 8}\n"
          ]
        }
      ]
    },
    {
      "cell_type": "markdown",
      "source": [
        "# VII. Словники (Dictionary)."
      ],
      "metadata": {
        "id": "kWc8gkzTx7Ea"
      }
    },
    {
      "cell_type": "markdown",
      "source": [
        "20. Створіть пустий словник. До нього додайте чотири пари елементів такі, щоб їхні ключі були різних типів. Чи може список бути ключем? Чому?"
      ],
      "metadata": {
        "id": "i5FLwj-B2ybQ"
      }
    },
    {
      "cell_type": "code",
      "source": [
        "# Create an empty dictionary\n",
        "my_dict = {}\n",
        "\n",
        "# Add pairs of items with keys of different types\n",
        "my_dict[1] = \"integer key\"\n",
        "my_dict[\"key\"] = \"string key\"\n",
        "my_dict[3.14] = \"float key\"\n",
        "my_dict[(1, 2)] = \"tuple key\"\n",
        "\n",
        "# Display the dictionary\n",
        "print(\"Dictionary:\", my_dict)\n"
      ],
      "metadata": {
        "id": "hxgv3BzrgLAV",
        "colab": {
          "base_uri": "https://localhost:8080/"
        },
        "outputId": "09cd2a32-8e20-4619-debe-a424f961bbde"
      },
      "execution_count": null,
      "outputs": [
        {
          "output_type": "stream",
          "name": "stdout",
          "text": [
            "Dictionary: {1: 'integer key', 'key': 'string key', 3.14: 'float key', (1, 2): 'tuple key'}\n"
          ]
        }
      ]
    },
    {
      "cell_type": "markdown",
      "source": [
        "*місце для текстової відповіді\n",
        "\n",
        "\n",
        "Ні, список не може бути ключем у словнику. Це пов'язано з тим, що ключі словників у Python мають бути незмінними типами."
      ],
      "metadata": {
        "id": "zwa7UVN-gR3m"
      }
    },
    {
      "cell_type": "markdown",
      "source": [
        "21. Створіть словник, де значенням в одній з пар теж буде словник, який теж має вкладений словник. Виведіть на екран значення, що міститься в словнику, що знаходиться на найнижчому рівні ієрархії вкладеності (найбільш внутрішній)."
      ],
      "metadata": {
        "id": "WM_pMlJsgoNf"
      }
    },
    {
      "cell_type": "code",
      "source": [
        "# Create a dictionary with nested dictionaries\n",
        "my_dict = {\n",
        "    \"outer_key\": {\n",
        "        \"inner_key\": {\n",
        "            \"nested_key\": \"value\"\n",
        "        }\n",
        "    }\n",
        "}\n",
        "\n",
        "# Access the value in the most internal dictionary\n",
        "most_internal_value = my_dict[\"outer_key\"][\"inner_key\"][\"nested_key\"]\n",
        "\n",
        "# Print the value\n",
        "print(\"Value in the most internal dictionary:\", most_internal_value)\n"
      ],
      "metadata": {
        "id": "60dlP7IHhAy4",
        "colab": {
          "base_uri": "https://localhost:8080/"
        },
        "outputId": "4755ae71-3521-4d64-ca0c-a6aa879b73e5"
      },
      "execution_count": null,
      "outputs": [
        {
          "output_type": "stream",
          "name": "stdout",
          "text": [
            "Value in the most internal dictionary: value\n"
          ]
        }
      ]
    },
    {
      "cell_type": "markdown",
      "source": [
        "# Вітаю! Ви велика(ий) молодець, що впоралась(вся). Похваліть себе та побалуйте чимось приємним. Я Вами пишаюся."
      ],
      "metadata": {
        "id": "xOZP0hkx6cCr"
      }
    }
  ]
}