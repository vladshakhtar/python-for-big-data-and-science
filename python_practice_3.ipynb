{
  "nbformat": 4,
  "nbformat_minor": 0,
  "metadata": {
    "colab": {
      "provenance": [],
      "include_colab_link": true
    },
    "kernelspec": {
      "name": "python3",
      "display_name": "Python 3"
    },
    "language_info": {
      "name": "python"
    }
  },
  "cells": [
    {
      "cell_type": "markdown",
      "metadata": {
        "id": "view-in-github",
        "colab_type": "text"
      },
      "source": [
        "<a href=\"https://colab.research.google.com/github/vladshakhtar/python-for-big-data-and-science/blob/python_practice_3/python_practice_3.ipynb\" target=\"_parent\"><img src=\"https://colab.research.google.com/assets/colab-badge.svg\" alt=\"Open In Colab\"/></a>"
      ]
    },
    {
      "cell_type": "markdown",
      "source": [
        "# I. Оператори порівняння та логічні оператори. Умови."
      ],
      "metadata": {
        "id": "qDEi2Pi-4yUC"
      }
    },
    {
      "cell_type": "markdown",
      "source": [
        "1. Створіть цілочисленну змінну зі своїм щасливим або улюбленим числом. Напишіть код, який би автоматизовував наступну задачу.\n",
        "\n",
        "Якщо число парне, помножте його на 2 та виведіть результат на екран.\n",
        "\n",
        "Але якщо число непарне, помножте його на 3 та додайте 1 і виведіть на екран."
      ],
      "metadata": {
        "id": "3v8D4Dkm43Ua"
      }
    },
    {
      "cell_type": "code",
      "execution_count": 1,
      "metadata": {
        "id": "dlVjc-Nu4bmb",
        "colab": {
          "base_uri": "https://localhost:8080/"
        },
        "outputId": "1bd073e9-5aff-4215-e851-67e5921ca096"
      },
      "outputs": [
        {
          "output_type": "stream",
          "name": "stdout",
          "text": [
            "The result after tripling and adding 1 to the odd number is: 22\n"
          ]
        }
      ],
      "source": [
        "# Define  lucky or favorite number\n",
        "favorite_number = 7\n",
        "\n",
        "# Check if the number is even or odd and perform the appropriate operation\n",
        "if favorite_number % 2 == 0:  # Check if the number is even\n",
        "    result = favorite_number * 2\n",
        "    print(\"The result after doubling the even number is:\", result)\n",
        "else:\n",
        "    result = favorite_number * 3 + 1\n",
        "    print(\"The result after tripling and adding 1 to the odd number is:\", result)\n"
      ]
    },
    {
      "cell_type": "markdown",
      "source": [
        "2. Створіть змінну, що посилається на список. Якщо список пустий, додайте будь-який елемент у кінець списку. Якщо ж ні, то нічого не робіть."
      ],
      "metadata": {
        "id": "H669P0QK5BI_"
      }
    },
    {
      "cell_type": "code",
      "source": [
        "# Create a list variable\n",
        "my_list = []\n",
        "\n",
        "# Check if the list is empty\n",
        "if not my_list:\n",
        "    # Add an element to the end of the list\n",
        "    my_list.append(\"New Element\")\n",
        "\n",
        "# Print the updated list\n",
        "print(\"Updated list:\", my_list)\n"
      ],
      "metadata": {
        "id": "ecWlfra45f6E",
        "colab": {
          "base_uri": "https://localhost:8080/"
        },
        "outputId": "66b5e3ba-c9e4-4d01-8eb4-a28a974afe06"
      },
      "execution_count": 5,
      "outputs": [
        {
          "output_type": "stream",
          "name": "stdout",
          "text": [
            "Updated list: ['New Element']\n"
          ]
        }
      ]
    },
    {
      "cell_type": "markdown",
      "source": [
        "3. Створіть рядок зі своїм імʼям латинкою. Напишіть код, який би автоматизовував наступну задачу.\n",
        "\n",
        "Якщо в імені є літера \"а\"\n",
        " або \"i\", Виведіть на екран повідомлення \"A or I is in the name\".\n",
        "\n",
        "\n",
        "\n",
        "Якщо в імені є літери \"o\" та \"n\", Виведіть на екран повідомлення \"O and N is in the name\".\n",
        "\n",
        "Також якщо в імені немає літери \"о\", але є \"n\", Виведіть на екран повідомлення \"Only N is in the name\".\n",
        "\n",
        "В решті випадків виведіть на екран повідомлення \"There is no N in the name, but there might be O\".\n",
        "\n",
        "Зверніть увагу, що, наприклад, для імені \"Antonina\" буде виведено два повідомлення."
      ],
      "metadata": {
        "id": "h9Y3cMUd5h85"
      }
    },
    {
      "cell_type": "code",
      "source": [
        "# Define your name in Latin\n",
        "latin_name = \"Vladyslav\"\n",
        "\n",
        "# Check if the name contains the letter \"a\" or \"i\"\n",
        "if 'a' in latin_name or 'i' in latin_name:\n",
        "    print(\"A or I is in the name\")\n",
        "\n",
        "# Check if the name contains the letters \"o\" and \"n\"\n",
        "if 'o' in latin_name and 'n' in latin_name:\n",
        "    print(\"O and N is in the name\")\n",
        "\n",
        "# Check if the name contains \"n\" but not \"o\"\n",
        "if 'n' in latin_name and 'o' not in latin_name:\n",
        "    print(\"Only N is in the name\")\n",
        "\n",
        "# Check for other cases\n",
        "if 'n' not in latin_name:\n",
        "    print(\"There is no N in the name, but there might be an O\")\n"
      ],
      "metadata": {
        "id": "bUH4LUx35u52",
        "colab": {
          "base_uri": "https://localhost:8080/"
        },
        "outputId": "dfa71346-4595-4fe3-c35b-3688986e0d2f"
      },
      "execution_count": 8,
      "outputs": [
        {
          "output_type": "stream",
          "name": "stdout",
          "text": [
            "A or I is in the name\n",
            "There is no N in the name, but there might be an O\n"
          ]
        }
      ]
    },
    {
      "cell_type": "markdown",
      "source": [
        "# II. Comprehensions."
      ],
      "metadata": {
        "id": "wPCXJv4354cU"
      }
    },
    {
      "cell_type": "markdown",
      "source": [
        "4. Створіть список, використовуючи if (не if-else), range та comprehension.\n",
        "\n",
        "\n"
      ],
      "metadata": {
        "id": "jULLW5jN55Pw"
      }
    },
    {
      "cell_type": "code",
      "source": [
        "# Create a list of even numbers from 0 to 9\n",
        "even_numbers = [x for x in range(10) if x % 2 == 0]\n",
        "\n",
        "print(even_numbers)\n"
      ],
      "metadata": {
        "id": "mlZalnVC6W3F",
        "colab": {
          "base_uri": "https://localhost:8080/"
        },
        "outputId": "71e6b2a7-5b07-4478-b968-e11a9a1b56ea"
      },
      "execution_count": 9,
      "outputs": [
        {
          "output_type": "stream",
          "name": "stdout",
          "text": [
            "[0, 2, 4, 6, 8]\n"
          ]
        }
      ]
    },
    {
      "cell_type": "markdown",
      "source": [
        "5. Створіть словник, використовуючи dict comprehension, що містить if else. Коли слід використовувати comprehensions, а коли їх слід уникати?"
      ],
      "metadata": {
        "id": "LqhEQ4JW6XcC"
      }
    },
    {
      "cell_type": "code",
      "source": [
        "# Create a dictionary with even numbers as keys and their squares if they are even, and cubes if they are odd\n",
        "number_dict = {x: x**2 if x % 2 == 0 else x**3 for x in range(1, 11)}\n",
        "\n",
        "print(number_dict)\n"
      ],
      "metadata": {
        "id": "1yVaFbOs6hta",
        "colab": {
          "base_uri": "https://localhost:8080/"
        },
        "outputId": "c5e292a6-41cc-47fd-d661-7a67dd5b0d19"
      },
      "execution_count": 10,
      "outputs": [
        {
          "output_type": "stream",
          "name": "stdout",
          "text": [
            "{1: 1, 2: 4, 3: 27, 4: 16, 5: 125, 6: 36, 7: 343, 8: 64, 9: 729, 10: 100}\n"
          ]
        }
      ]
    },
    {
      "cell_type": "markdown",
      "source": [
        "\n",
        "\n",
        "Використовуйте comprehensions коли:\n",
        "\n",
        "-Вам потрібно створити новий список, множину або словник на основі певної логіки або перетворення існуючого ітерабельного списку.\n",
        "\n",
        "-Логіка, що використовується, є відносно простою і може бути чітко виражена в межах розуміння.\n",
        "\n",
        "-Це призводить до більш читабельного і стислого коду порівняно з використанням циклів.\n",
        "\n",
        "\n",
        "Уникайте comprehensions коли:\n",
        "\n",
        "-Логіка стає занадто складною або вкладеною, що робить розуміння менш читабельним.\n",
        "\n",
        "-Це ускладнює дебагінг через свою компактність.\n",
        "\n",
        "-Якщо використання comprehensions може принести в жертву читабельність і ясність, перевага на користь явних циклів може бути кращим вибором."
      ],
      "metadata": {
        "id": "wbkzNhKq6hzz"
      }
    },
    {
      "cell_type": "markdown",
      "source": [
        "6. Створіть список з рядками та запишіть його у змінну. Створіть ще один список на основі попереднього, де кожен рядок буде містити тільки три перших заглавних символи. Наприклад: ['hello', 'i', 'dont', 'care'] -> ['HEL', 'I', 'DON', 'CAR']. Використання comprehensions обовʼязкове."
      ],
      "metadata": {
        "id": "ZlqB8G3G6lHP"
      }
    },
    {
      "cell_type": "code",
      "source": [
        "# Original list of strings\n",
        "original_list = ['hello', 'i', 'dont', 'care']\n",
        "\n",
        "# List containing only the first three uppercase characters of each string\n",
        "modified_list = [word[:3].upper() for word in original_list]\n",
        "\n",
        "print(modified_list)\n"
      ],
      "metadata": {
        "id": "nw6rz0bR60VC",
        "colab": {
          "base_uri": "https://localhost:8080/"
        },
        "outputId": "5f209245-3cf3-4809-87e7-e891d50ba4d5"
      },
      "execution_count": 11,
      "outputs": [
        {
          "output_type": "stream",
          "name": "stdout",
          "text": [
            "['HEL', 'I', 'DON', 'CAR']\n"
          ]
        }
      ]
    },
    {
      "cell_type": "markdown",
      "source": [
        "# III. Цикли."
      ],
      "metadata": {
        "id": "Tj573IAH64Fz"
      }
    },
    {
      "cell_type": "markdown",
      "source": [
        "7. Продемонструйте роботу циклу while. Не можна використовувати True для запуску циклу, щоб уникнути безкінечного циклу!"
      ],
      "metadata": {
        "id": "tN_33xdE65H5"
      }
    },
    {
      "cell_type": "code",
      "source": [
        "# Initialize a counter variable\n",
        "counter = 1\n",
        "\n",
        "# Define the condition to start the loop\n",
        "while counter <= 5:  # Loop will execute until counter is less than or equal to 5\n",
        "    print(\"Current count:\", counter)\n",
        "    counter += 1  # Increment the counter variable\n",
        "\n",
        "print(\"Loop ended.\")\n"
      ],
      "metadata": {
        "id": "Kd9FO6yG63P5",
        "colab": {
          "base_uri": "https://localhost:8080/"
        },
        "outputId": "fd57e02a-8083-4079-effa-7a1bc31144e4"
      },
      "execution_count": 12,
      "outputs": [
        {
          "output_type": "stream",
          "name": "stdout",
          "text": [
            "Current count: 1\n",
            "Current count: 2\n",
            "Current count: 3\n",
            "Current count: 4\n",
            "Current count: 5\n",
            "Loop ended.\n"
          ]
        }
      ]
    },
    {
      "cell_type": "markdown",
      "source": [
        "8. Напишіть програму, яка виведе на екран непарні числа в діапазоні від 0 до 20 включно."
      ],
      "metadata": {
        "id": "x2CmfZO-7pW0"
      }
    },
    {
      "cell_type": "code",
      "source": [
        "# Loop through numbers from 0 to 20 inclusive\n",
        "for num in range(21):\n",
        "    # Check if the number is odd\n",
        "    if num % 2 != 0:\n",
        "        # Print the odd number\n",
        "        print(num)\n"
      ],
      "metadata": {
        "id": "aCSRYA6s7tkF",
        "colab": {
          "base_uri": "https://localhost:8080/"
        },
        "outputId": "6c162f57-bada-4af4-ef4a-093c5dcae2a0"
      },
      "execution_count": 13,
      "outputs": [
        {
          "output_type": "stream",
          "name": "stdout",
          "text": [
            "1\n",
            "3\n",
            "5\n",
            "7\n",
            "9\n",
            "11\n",
            "13\n",
            "15\n",
            "17\n",
            "19\n"
          ]
        }
      ]
    },
    {
      "cell_type": "markdown",
      "source": [
        "9. Створіть список з елементами булевого типу або None. Використовуючи цикли, отримайте в результаті список з кортежами, де перший елемент кортежу - індекс(ціле число), а другий елемент - відповідне значення з першого списку.\n",
        "\n",
        "Наприклад, [True, True, None, False] -> [(0, True), (1, True), (2, None), (3, False)]"
      ],
      "metadata": {
        "id": "MDWNocZD7t_B"
      }
    },
    {
      "cell_type": "code",
      "source": [
        "# Original list with Boolean values or None\n",
        "original_list = [True, True, None, False]\n",
        "\n",
        "# Initialize an empty list to store tuples\n",
        "tuple_list = []\n",
        "\n",
        "# Loop through the original list using enumerate() to get both index and value\n",
        "for index, value in enumerate(original_list):\n",
        "    # Create a tuple with the index and corresponding value, then append it to the tuple_list\n",
        "    tuple_list.append((index, value))\n",
        "\n",
        "# Print the resulting list of tuples\n",
        "print(tuple_list)\n"
      ],
      "metadata": {
        "id": "0EUyjMdp7yfh",
        "colab": {
          "base_uri": "https://localhost:8080/"
        },
        "outputId": "814b115b-22b4-46fd-e289-af7b2fafb4ba"
      },
      "execution_count": 14,
      "outputs": [
        {
          "output_type": "stream",
          "name": "stdout",
          "text": [
            "[(0, True), (1, True), (2, None), (3, False)]\n"
          ]
        }
      ]
    },
    {
      "cell_type": "markdown",
      "source": [
        "10. Створіть словник, де ключі - назви книжок, а значення - їхня кількість у наявності в Вашій міні-бібліотеці. Бібліотека має містити щонайменше 6 книжок (6 пар значень у словнику) і щонайбільше 10 (пар значень). Використовуючи цикли, оновіть словник (не створюйте новий) так, щоби кількість книг у наявності збільшилося на 5 кожної книги. Наприклад,\n",
        "{'It': 3, 'Fault stars': 10, 'Bible': 17, 'Psychological romance': 4, 'Harry Potter': 13} -> {'It': 8, 'Fault stars': 15, 'Bible': 22, 'Psychological romance': 9, 'Harry Potter': 18}"
      ],
      "metadata": {
        "id": "-6XUqlcG7zKs"
      }
    },
    {
      "cell_type": "code",
      "source": [
        "# Original dictionary with book names and the number of books\n",
        "library = {\n",
        "    'It': 3,\n",
        "    'Fault stars': 10,\n",
        "    'Bible': 17,\n",
        "    'Psychological romance': 4,\n",
        "    'Harry Potter': 13,\n",
        "    'Sherlock Holmes': 8,\n",
        "    'Lord of the Rings': 1\n",
        "}\n",
        "\n",
        "# Loop through the dictionary and update the number of books for each key\n",
        "for book in library:\n",
        "    library[book] += 5\n",
        "\n",
        "# Print the updated library dictionary\n",
        "print(library)\n"
      ],
      "metadata": {
        "id": "Ceoj9wwb791q",
        "colab": {
          "base_uri": "https://localhost:8080/"
        },
        "outputId": "5f1a0fe9-d1c9-422b-fb01-9a0fc18af004"
      },
      "execution_count": 17,
      "outputs": [
        {
          "output_type": "stream",
          "name": "stdout",
          "text": [
            "{'It': 8, 'Fault stars': 15, 'Bible': 22, 'Psychological romance': 9, 'Harry Potter': 18, 'Sherlock Holmes': 13, 'Lord of the Rings': 6}\n"
          ]
        }
      ]
    },
    {
      "cell_type": "markdown",
      "source": [
        "11. Визначте цілочислену змінну n, що належить проміжку від 4 до 10 включно. Використовуючи цикли, виведіть в консоль наступний патерн.\n",
        "\n",
        "#\n",
        "##\n",
        "###\n",
        "####\n",
        "\n",
        "... #*n\n"
      ],
      "metadata": {
        "id": "QLzyJM288AC7"
      }
    },
    {
      "cell_type": "code",
      "source": [
        "# Define the integer variable n within the range from 4 to 10 inclusive\n",
        "n = 7\n",
        "\n",
        "# Loop through numbers from 1 to n (inclusive)\n",
        "for i in range(1, n + 1):\n",
        "    # Print '#' character i times on each line\n",
        "    for j in range(i):\n",
        "        print(\"#\", end=\"\")\n",
        "    # Move to the next line after printing the pattern for each iteration\n",
        "    print()\n"
      ],
      "metadata": {
        "id": "KOpng87s8Duz",
        "colab": {
          "base_uri": "https://localhost:8080/"
        },
        "outputId": "cf8e9439-0e91-4f20-a108-56da97753698"
      },
      "execution_count": 18,
      "outputs": [
        {
          "output_type": "stream",
          "name": "stdout",
          "text": [
            "#\n",
            "##\n",
            "###\n",
            "####\n",
            "#####\n",
            "######\n",
            "#######\n"
          ]
        }
      ]
    },
    {
      "cell_type": "markdown",
      "source": [
        "12. Гра \"Нумо вгадай\".\n",
        "Розробіть просту гру, де користувач має вгадати випадкове число від 1 до 100. Для генерації випадкового числа використовуйте функцію random.randint(a, b) (тут a та b включно). Для отримання числа з консолі використовуйте функцію input(), результат якої обовʼязково явно приведіть до типу int.\n",
        "\n",
        "Підказка: використовуйте цикл while та умови if-else, щоб повідомити користувачу піказки (напр. \"Більше\", \"Менше\") поки користувач не вгадає. По завершенню виведіть кількість спроб, які знадобилися для вгадування."
      ],
      "metadata": {
        "id": "_bd-bqAT8EHn"
      }
    },
    {
      "cell_type": "code",
      "source": [
        "import random\n",
        "\n",
        "# Generate a random number between 1 and 100\n",
        "secret_number = random.randint(1, 100)\n",
        "\n",
        "# Initialize the number of attempts\n",
        "attempts = 0\n",
        "\n",
        "# Start the game loop\n",
        "while True:\n",
        "    # Get a guess from the user\n",
        "    guess = int(input(\"Guess the number (between 1 and 100): \"))\n",
        "\n",
        "    # Increment the number of attempts\n",
        "    attempts += 1\n",
        "\n",
        "    # Check if the guess is correct\n",
        "    if guess == secret_number:\n",
        "        print(\"Congratulations! You guessed the number {} in {} attempts.\".format(secret_number, attempts))\n",
        "        break\n",
        "    elif guess < secret_number:\n",
        "        print(\"More\")\n",
        "    else:\n",
        "        print(\"Less\")\n"
      ],
      "metadata": {
        "id": "IK9nnxFK8Hkl",
        "colab": {
          "base_uri": "https://localhost:8080/"
        },
        "outputId": "f5694fdf-e729-40fb-faba-89ed175f38f0"
      },
      "execution_count": 21,
      "outputs": [
        {
          "output_type": "stream",
          "name": "stdout",
          "text": [
            "Guess the number (between 1 and 100): 50\n",
            "More\n",
            "Guess the number (between 1 and 100): 75\n",
            "Less\n",
            "Guess the number (between 1 and 100): 63\n",
            "More\n",
            "Guess the number (between 1 and 100): 69\n",
            "More\n",
            "Guess the number (between 1 and 100): 72\n",
            "Congratulations! You guessed the number 72 in 5 attempts.\n"
          ]
        }
      ]
    },
    {
      "cell_type": "markdown",
      "source": [
        "# Вітаю! Ви велика(ий) молодець, що впоралась(вся). Похваліть себе та побалуйте чимось приємним. Я Вами пишаюся."
      ],
      "metadata": {
        "id": "PXoXWb7Z8IGi"
      }
    }
  ]
}