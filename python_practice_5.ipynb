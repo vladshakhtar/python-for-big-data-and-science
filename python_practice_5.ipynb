{
  "nbformat": 4,
  "nbformat_minor": 0,
  "metadata": {
    "colab": {
      "provenance": [],
      "include_colab_link": true
    },
    "kernelspec": {
      "name": "python3",
      "display_name": "Python 3"
    },
    "language_info": {
      "name": "python"
    }
  },
  "cells": [
    {
      "cell_type": "markdown",
      "metadata": {
        "id": "view-in-github",
        "colab_type": "text"
      },
      "source": [
        "<a href=\"https://colab.research.google.com/github/vladshakhtar/python-for-big-data-and-science/blob/python_practice_5/python_practice_5.ipynb\" target=\"_parent\"><img src=\"https://colab.research.google.com/assets/colab-badge.svg\" alt=\"Open In Colab\"/></a>"
      ]
    },
    {
      "cell_type": "markdown",
      "source": [
        "# I. OOP"
      ],
      "metadata": {
        "id": "5qV_sehzFCTp"
      }
    },
    {
      "cell_type": "markdown",
      "source": [
        "1. (6б). Створіть клас Animal, додайте три атрибути, один з яких має значення за замовчуванням та два методи на свій розсуд."
      ],
      "metadata": {
        "id": "tx_U_hOALyfg"
      }
    },
    {
      "cell_type": "code",
      "source": [
        "class Animal:\n",
        "    def __init__(self, species, sound=\"\"):\n",
        "        self.species = species\n",
        "        self.sound = sound\n",
        "        self.is_alive = True  # Default value for is_alive attribute is True\n",
        "\n",
        "    def make_sound(self):\n",
        "        if self.sound:\n",
        "            print(f\"The {self.species} makes a {self.sound} sound.\")\n",
        "        else:\n",
        "            print(f\"The {self.species} makes a sound.\")\n",
        "\n",
        "    def die(self):\n",
        "        self.is_alive = False\n",
        "        print(f\"The {self.species} has died.\")\n"
      ],
      "metadata": {
        "id": "-Vf895KaL88N"
      },
      "execution_count": 1,
      "outputs": []
    },
    {
      "cell_type": "markdown",
      "source": [
        "2. (2б). Створіть два обʼєкти цього класу, де один з обʼєктів створюється із дефолтним значенням атрибуту. На одному обʼєкті отримайте значення його атрибуту, а на іншому викличте один з його методів."
      ],
      "metadata": {
        "id": "X_UlOMB0L93w"
      }
    },
    {
      "cell_type": "code",
      "source": [
        "lion = Animal(\"Lion\")\n",
        "\n",
        "cat = Animal(\"Cat\", \"meow\")\n",
        "\n",
        "\n",
        "print(\"Sound of the lion:\", lion.sound)\n",
        "\n",
        "cat.make_sound()\n"
      ],
      "metadata": {
        "id": "7gBu0ESOMCpG",
        "colab": {
          "base_uri": "https://localhost:8080/"
        },
        "outputId": "cf9d81c4-30c8-4138-bbda-9636a3fe61a4"
      },
      "execution_count": 2,
      "outputs": [
        {
          "output_type": "stream",
          "name": "stdout",
          "text": [
            "Sound of the lion: \n",
            "The Cat makes a meow sound.\n"
          ]
        }
      ]
    },
    {
      "cell_type": "markdown",
      "source": [
        "3. (5б). Створіть клас, де атрибути мають різні рівні доступу. Спробуйте отримати їхні значення та опишіть результати."
      ],
      "metadata": {
        "id": "HoqSCZt1MHn5"
      }
    },
    {
      "cell_type": "code",
      "source": [
        "class MyClass:\n",
        "    def __init__(self):\n",
        "        self.public_attr = \"I am public\"\n",
        "        self._protected_attr = \"I am protected\"\n",
        "        self.__private_attr = \"I am private\"\n",
        "\n",
        "# Create an instance of MyClass\n",
        "obj = MyClass()\n",
        "\n",
        "# Accessing public attribute\n",
        "print(obj.public_attr)  # Output: I am public\n",
        "\n",
        "# Accessing protected attribute\n",
        "print(obj._protected_attr)  # Output: I am protected\n",
        "\n",
        "# Accessing private attribute - This will raise an AttributeError\n",
        "print(obj.__private_attr)\n"
      ],
      "metadata": {
        "id": "r9b3vJxBMSPV",
        "colab": {
          "base_uri": "https://localhost:8080/",
          "height": 216
        },
        "outputId": "d82dee65-0181-40b0-f1a6-bc6e6c627678"
      },
      "execution_count": 3,
      "outputs": [
        {
          "output_type": "stream",
          "name": "stdout",
          "text": [
            "I am public\n",
            "I am protected\n"
          ]
        },
        {
          "output_type": "error",
          "ename": "AttributeError",
          "evalue": "'MyClass' object has no attribute '__private_attr'",
          "traceback": [
            "\u001b[0;31m---------------------------------------------------------------------------\u001b[0m",
            "\u001b[0;31mAttributeError\u001b[0m                            Traceback (most recent call last)",
            "\u001b[0;32m<ipython-input-3-0f270d4888cf>\u001b[0m in \u001b[0;36m<cell line: 17>\u001b[0;34m()\u001b[0m\n\u001b[1;32m     15\u001b[0m \u001b[0;34m\u001b[0m\u001b[0m\n\u001b[1;32m     16\u001b[0m \u001b[0;31m# Accessing private attribute - This will raise an AttributeError\u001b[0m\u001b[0;34m\u001b[0m\u001b[0;34m\u001b[0m\u001b[0m\n\u001b[0;32m---> 17\u001b[0;31m \u001b[0mprint\u001b[0m\u001b[0;34m(\u001b[0m\u001b[0mobj\u001b[0m\u001b[0;34m.\u001b[0m\u001b[0m__private_attr\u001b[0m\u001b[0;34m)\u001b[0m\u001b[0;34m\u001b[0m\u001b[0;34m\u001b[0m\u001b[0m\n\u001b[0m",
            "\u001b[0;31mAttributeError\u001b[0m: 'MyClass' object has no attribute '__private_attr'"
          ]
        }
      ]
    },
    {
      "cell_type": "markdown",
      "source": [
        "4. (7б). Як ви розумієте термін self? Для чого використовується метод __init __?"
      ],
      "metadata": {
        "id": "5op2m2vgMSkZ"
      }
    },
    {
      "cell_type": "markdown",
      "source": [
        "*місце для відповіді\n",
        "\n",
        "У Python self - це умовне позначення, яке посилається на екземпляр класу. Це перший параметр методів у класі, який представляє сам екземпляр класу.\n",
        "\n",
        "Метод __init __ у Python - це спеціальний метод, який використовується для ініціалізації об'єктів класу. Він розшифровується як \"ініціалізувати\" і викликається автоматично при створенні нового екземпляру класу."
      ],
      "metadata": {
        "id": "DyiPqNRvMasx"
      }
    },
    {
      "cell_type": "markdown",
      "source": [
        "5. (9б). Створіть клас Фігура без атрибутів, з методом get_area для отримання площі фігури, що повертає 0 та __add __, який приймає self та other в якості аргументів, а повертає суму площин фігур self та other."
      ],
      "metadata": {
        "id": "-6X8EGfjMd2y"
      }
    },
    {
      "cell_type": "code",
      "source": [
        "class Shape:\n",
        "    def get_area(self):\n",
        "        return 0\n",
        "\n",
        "    def __add__(self, other):\n",
        "        return self.get_area() + other.get_area()\n",
        "\n",
        "shape1 = Shape()\n",
        "shape2 = Shape()\n",
        "\n",
        "total_area = shape1 + shape2\n",
        "print(\"Total area:\", total_area)\n"
      ],
      "metadata": {
        "id": "4rvO_wYUMaEr",
        "colab": {
          "base_uri": "https://localhost:8080/"
        },
        "outputId": "31051313-05b6-4124-8a25-b0329744ccca"
      },
      "execution_count": 4,
      "outputs": [
        {
          "output_type": "stream",
          "name": "stdout",
          "text": [
            "Total area: 0\n"
          ]
        }
      ]
    },
    {
      "cell_type": "markdown",
      "source": [
        "6. (11б). Створіть 2 дочірніх класи від Фігури: Трикутник та Коло, які мають атрибути, необхідні для розрахунку площин. Визначте метод get_area в кожному з них так, щоби вони розраховували площу в залежності від формули для кожного типу фігури. Створіть обʼєкт класу Трикутник та обʼєкт класу Коло. Виконайте операцію суми за допомогою оператора + між ними."
      ],
      "metadata": {
        "id": "SFcKnnv5Mo_z"
      }
    },
    {
      "cell_type": "code",
      "source": [
        "import math\n",
        "\n",
        "class Triangle(Shape):\n",
        "    def __init__(self, base, height):\n",
        "        self.base = base\n",
        "        self.height = height\n",
        "\n",
        "    def get_area(self):\n",
        "        return 0.5 * self.base * self.height\n",
        "\n",
        "class Circle(Shape):\n",
        "    def __init__(self, radius):\n",
        "        self.radius = radius\n",
        "\n",
        "    def get_area(self):\n",
        "        return math.pi * (self.radius ** 2)\n",
        "\n",
        "triangle = Triangle(3, 4)\n",
        "\n",
        "circle = Circle(5)\n",
        "\n",
        "total_area = triangle + circle\n",
        "print(\"Total area:\", total_area)"
      ],
      "metadata": {
        "id": "H3GVNr69Muf3",
        "colab": {
          "base_uri": "https://localhost:8080/"
        },
        "outputId": "91df3a6c-424e-4ebe-f40c-7aca7776f8dc"
      },
      "execution_count": 5,
      "outputs": [
        {
          "output_type": "stream",
          "name": "stdout",
          "text": [
            "Total area: 84.53981633974483\n"
          ]
        }
      ]
    },
    {
      "cell_type": "markdown",
      "source": [
        "7. (3б). Продемонструйте різницю між isinstance та issubclass."
      ],
      "metadata": {
        "id": "HCvR206YMvLK"
      }
    },
    {
      "cell_type": "code",
      "source": [
        "class Parent:\n",
        "    pass\n",
        "\n",
        "class Child(Parent):\n",
        "    pass\n",
        "\n",
        "# Create an instance of the Child class\n",
        "child_instance = Child()\n",
        "\n",
        "# Check if the child_instance is an instance of the Child class\n",
        "print(\"Is child_instance an instance of Child?\", isinstance(child_instance, Child))  # Output: True\n",
        "\n",
        "# Check if the child_instance is an instance of the Parent class\n",
        "print(\"Is child_instance an instance of Parent?\", isinstance(child_instance, Parent))  # Output: True\n",
        "\n",
        "# Check if the Child class is a subclass of the Parent class\n",
        "print(\"Is Child a subclass of Parent?\", issubclass(Child, Parent))  # Output: True\n",
        "\n",
        "# Check if the Parent class is a subclass of the Child class\n",
        "print(\"Is Parent a subclass of Child?\", issubclass(Parent, Child))  # Output: False\n"
      ],
      "metadata": {
        "id": "L_V1bBvDM0GN",
        "colab": {
          "base_uri": "https://localhost:8080/"
        },
        "outputId": "963ceca0-2cdd-453c-c865-34886efef65a"
      },
      "execution_count": 6,
      "outputs": [
        {
          "output_type": "stream",
          "name": "stdout",
          "text": [
            "Is child_instance an instance of Child? True\n",
            "Is child_instance an instance of Parent? True\n",
            "Is Child a subclass of Parent? True\n",
            "Is Parent a subclass of Child? False\n"
          ]
        }
      ]
    },
    {
      "cell_type": "markdown",
      "source": [
        "8. (13б). Створіть клас BankAccount з приватними атрибутами balance та account_number. Реалізуйте методи поповнення та зняття коштів, забезпечивши належну інкапсуляцію. Підказка: використовуйте декоратори property та setter."
      ],
      "metadata": {
        "id": "jjsaBZ-iM0Qq"
      }
    },
    {
      "cell_type": "code",
      "source": [
        "class BankAccount:\n",
        "    def __init__(self, account_number):\n",
        "        self._balance = 0  # Private attribute for balance\n",
        "        self._account_number = account_number  # Private attribute for account number\n",
        "\n",
        "    @property\n",
        "    def balance(self):\n",
        "        return self._balance\n",
        "\n",
        "    @property\n",
        "    def account_number(self):\n",
        "        return self._account_number\n",
        "\n",
        "    @balance.setter\n",
        "    def balance(self, new_balance):\n",
        "        if new_balance >= 0:\n",
        "            self._balance = new_balance\n",
        "        else:\n",
        "            print(\"Invalid balance value.\")\n",
        "\n",
        "    def deposit(self, amount):\n",
        "        if amount > 0:\n",
        "            self._balance += amount\n",
        "            print(f\"Deposited ${amount}. New balance: ${self._balance}\")\n",
        "        else:\n",
        "            print(\"Invalid amount for deposit.\")\n",
        "\n",
        "    def withdrawal(self, amount):\n",
        "        if 0 < amount <= self._balance:\n",
        "            self._balance -= amount\n",
        "            print(f\"Withdrew ${amount}. New balance: ${self._balance}\")\n",
        "        else:\n",
        "            print(\"Insufficient funds or invalid amount for withdrawal.\")\n",
        "\n",
        "\n",
        "account = BankAccount(\"123456789\")  # Creating an instance of BankAccount with account number \"123456789\"\n",
        "\n",
        "print(\"Account number:\", account.account_number)  # Accessing account number (should be accessible)\n",
        "print(\"Current balance:\", account.balance)  # Accessing balance (should be accessible)\n",
        "\n",
        "account.deposit(1000)  # Deposit $1000\n",
        "account.withdrawal(500)  # Withdraw $500\n",
        "account.withdrawal(700)  # Withdraw $700 (insufficient funds)\n",
        "\n",
        "# Trying to set balance directly using the setter\n",
        "account.balance = -100  # Should print \"Invalid balance value.\"\n"
      ],
      "metadata": {
        "id": "xCvZ7lh8M7YA",
        "colab": {
          "base_uri": "https://localhost:8080/"
        },
        "outputId": "d435d7bb-76dc-4e4f-ca44-1ea5117a337d"
      },
      "execution_count": 7,
      "outputs": [
        {
          "output_type": "stream",
          "name": "stdout",
          "text": [
            "Account number: 123456789\n",
            "Current balance: 0\n",
            "Deposited $1000. New balance: $1000\n",
            "Withdrew $500. New balance: $500\n",
            "Insufficient funds or invalid amount for withdrawal.\n",
            "Invalid balance value.\n"
          ]
        }
      ]
    },
    {
      "cell_type": "markdown",
      "source": [
        "9. (11б). Створіть клас Library, який містить список об'єктів типу Book. Реалізуйте методи для додавання книги, видалення книги та відображення списку книг."
      ],
      "metadata": {
        "id": "tIzL2SJTM8ft"
      }
    },
    {
      "cell_type": "code",
      "source": [
        "class Book:\n",
        "    def __init__(self, title, author):\n",
        "        self.title = title\n",
        "        self.author = author\n",
        "\n",
        "class Library:\n",
        "    def __init__(self):\n",
        "        self.books = []\n",
        "\n",
        "    def add_book(self, title, author):\n",
        "        new_book = Book(title, author)\n",
        "        self.books.append(new_book)\n",
        "        print(f\"Book '{title}' by {author} added to the library.\")\n",
        "\n",
        "    def delete_book(self, title):\n",
        "        for book in self.books:\n",
        "            if book.title == title:\n",
        "                self.books.remove(book)\n",
        "                print(f\"Book '{title}' deleted from the library.\")\n",
        "                return\n",
        "        print(f\"Book '{title}' not found in the library.\")\n",
        "\n",
        "    def display_books(self):\n",
        "        if self.books:\n",
        "            print(\"Books in the library:\")\n",
        "            for book in self.books:\n",
        "                print(f\"- {book.title} by {book.author}\")\n",
        "        else:\n",
        "            print(\"The library is empty.\")\n",
        "\n",
        "\n",
        "library = Library()\n",
        "\n",
        "library.add_book(\"The Great Gatsby\", \"F. Scott Fitzgerald\")\n",
        "library.add_book(\"To Kill a Mockingbird\", \"Harper Lee\")\n",
        "library.add_book(\"1984\", \"George Orwell\")\n",
        "\n",
        "\n",
        "library.display_books()\n",
        "\n",
        "\n",
        "library.delete_book(\"To Kill a Mockingbird\")\n",
        "\n",
        "\n",
        "library.display_books()\n"
      ],
      "metadata": {
        "id": "HWxfJKLtNAUZ",
        "colab": {
          "base_uri": "https://localhost:8080/"
        },
        "outputId": "caacfb69-ec9b-455a-815c-b1e505b12dc2"
      },
      "execution_count": 8,
      "outputs": [
        {
          "output_type": "stream",
          "name": "stdout",
          "text": [
            "Book 'The Great Gatsby' by F. Scott Fitzgerald added to the library.\n",
            "Book 'To Kill a Mockingbird' by Harper Lee added to the library.\n",
            "Book '1984' by George Orwell added to the library.\n",
            "Books in the library:\n",
            "- The Great Gatsby by F. Scott Fitzgerald\n",
            "- To Kill a Mockingbird by Harper Lee\n",
            "- 1984 by George Orwell\n",
            "Book 'To Kill a Mockingbird' deleted from the library.\n",
            "Books in the library:\n",
            "- The Great Gatsby by F. Scott Fitzgerald\n",
            "- 1984 by George Orwell\n"
          ]
        }
      ]
    },
    {
      "cell_type": "markdown",
      "source": [
        "10. (13б). Створіть клас Person з атрибутами name та age. Створіть ще один клас Employee з такими атрибутами, як department та salary. Створіть клас Manager, який успадковує обидва класи Person та Employee. Продемонструйте використання множинної спадковості, створивши обʼєкт класу Manager та отримавши mro для цього класу."
      ],
      "metadata": {
        "id": "lmV8pAwwNIqu"
      }
    },
    {
      "cell_type": "code",
      "source": [
        "class Person:\n",
        "    def __init__(self, name, age):\n",
        "        self.name = name\n",
        "        self.age = age\n",
        "\n",
        "class Employee:\n",
        "    def __init__(self, department, salary):\n",
        "        self.department = department\n",
        "        self.salary = salary\n",
        "\n",
        "class Manager(Person, Employee):\n",
        "    def __init__(self, name, age, department, salary):\n",
        "        Person.__init__(self, name, age)\n",
        "        Employee.__init__(self, department, salary)\n",
        "\n",
        "\n",
        "manager = Manager(\"John Doe\", 40, \"Marketing\", 60000)\n",
        "\n",
        "print(\"Method Resolution Order for Manager class:\", Manager.mro())\n"
      ],
      "metadata": {
        "id": "R49grKlWNPeN",
        "colab": {
          "base_uri": "https://localhost:8080/"
        },
        "outputId": "4cbb9438-bf8e-4027-e38f-6effafe9dad4"
      },
      "execution_count": 9,
      "outputs": [
        {
          "output_type": "stream",
          "name": "stdout",
          "text": [
            "Method Resolution Order for Manager class: [<class '__main__.Manager'>, <class '__main__.Person'>, <class '__main__.Employee'>, <class 'object'>]\n"
          ]
        }
      ]
    },
    {
      "cell_type": "markdown",
      "source": [
        "# II. Iterator"
      ],
      "metadata": {
        "id": "dIJyUiNBFG8G"
      }
    },
    {
      "cell_type": "markdown",
      "source": [
        "11. (4б). Визначте рядок(str) з 4ма різними за значенням символами. Створіть ітератор на основі цього рядка. Викличте 5 разів функцію next на ітераторі, 4ри перших з них огорніть у ф-цію print()."
      ],
      "metadata": {
        "id": "13vsm0NyKIzL"
      }
    },
    {
      "cell_type": "code",
      "source": [
        "my_string = \"abcd\"\n",
        "\n",
        "my_iterator = iter(my_string)\n",
        "\n",
        "for _ in range(4):\n",
        "    print(next(my_iterator))\n",
        "\n",
        "try:\n",
        "    next_value = next(my_iterator)\n",
        "    print(next_value)\n",
        "except StopIteration:\n",
        "    print(\"End of iterator reached.\")\n",
        "\n"
      ],
      "metadata": {
        "id": "81ntabAkKuz-",
        "colab": {
          "base_uri": "https://localhost:8080/"
        },
        "outputId": "42989a91-6b1f-41f9-8616-85fc7d8520ce"
      },
      "execution_count": 11,
      "outputs": [
        {
          "output_type": "stream",
          "name": "stdout",
          "text": [
            "a\n",
            "b\n",
            "c\n",
            "d\n",
            "End of iterator reached.\n"
          ]
        }
      ]
    },
    {
      "cell_type": "markdown",
      "source": [
        "А що якщо викликати цю ж функцію на рядку?"
      ],
      "metadata": {
        "id": "aekWHGXOLRsO"
      }
    },
    {
      "cell_type": "code",
      "source": [
        "my_string = \"abcd\"\n",
        "next_value = next(my_string)\n"
      ],
      "metadata": {
        "id": "mxATGsErLV1i",
        "colab": {
          "base_uri": "https://localhost:8080/",
          "height": 162
        },
        "outputId": "993a5d8b-14a3-46b9-ec18-19208aa3d6ed"
      },
      "execution_count": 12,
      "outputs": [
        {
          "output_type": "error",
          "ename": "TypeError",
          "evalue": "'str' object is not an iterator",
          "traceback": [
            "\u001b[0;31m---------------------------------------------------------------------------\u001b[0m",
            "\u001b[0;31mTypeError\u001b[0m                                 Traceback (most recent call last)",
            "\u001b[0;32m<ipython-input-12-6e7fe61019b0>\u001b[0m in \u001b[0;36m<cell line: 2>\u001b[0;34m()\u001b[0m\n\u001b[1;32m      1\u001b[0m \u001b[0mmy_string\u001b[0m \u001b[0;34m=\u001b[0m \u001b[0;34m\"abcd\"\u001b[0m\u001b[0;34m\u001b[0m\u001b[0;34m\u001b[0m\u001b[0m\n\u001b[0;32m----> 2\u001b[0;31m \u001b[0mnext_value\u001b[0m \u001b[0;34m=\u001b[0m \u001b[0mnext\u001b[0m\u001b[0;34m(\u001b[0m\u001b[0mmy_string\u001b[0m\u001b[0;34m)\u001b[0m\u001b[0;34m\u001b[0m\u001b[0;34m\u001b[0m\u001b[0m\n\u001b[0m",
            "\u001b[0;31mTypeError\u001b[0m: 'str' object is not an iterator"
          ]
        }
      ]
    },
    {
      "cell_type": "markdown",
      "source": [
        " 12. (5б). Опишіть своїми словами в одному реченні, як ви розумієте різницю між ітерабельними обʼєктами та ітераторами (можна на прикладі)."
      ],
      "metadata": {
        "id": "XwtMEopwJ4pH"
      }
    },
    {
      "cell_type": "markdown",
      "source": [
        "Ітерабельні об'єкти - це об'єкти, які можна перебирати за допомогою циклу або осмислення, а ітератори - це об'єкти, які забезпечують доступ до елементів ітерованого об'єкта один за одним, зазвичай за допомогою функції next(), з кожним викликом якої повертається наступний елемент, доки не буде досягнутий кінець."
      ],
      "metadata": {
        "id": "-sHrODc3KFn8"
      }
    },
    {
      "cell_type": "markdown",
      "source": [
        "13. (11б). Створіть клас, що має визначений Iterator Protocol та при кожному виклику next повертає літери англійської абетки, поки вони не вичерпаються."
      ],
      "metadata": {
        "id": "E9qJWmNbK8Gl"
      }
    },
    {
      "cell_type": "code",
      "source": [
        "class AlphabetIterator:\n",
        "    def __init__(self):\n",
        "        self.current_letter = ord('a') - 1  # Start with 'a' - 1 so that first call to next() returns 'a'\n",
        "\n",
        "    def __iter__(self):\n",
        "        return self\n",
        "\n",
        "    def __next__(self):\n",
        "        self.current_letter += 1\n",
        "        if self.current_letter > ord('z'):\n",
        "            raise StopIteration\n",
        "        return chr(self.current_letter)\n",
        "\n",
        "\n",
        "alphabet_iterator = AlphabetIterator()\n",
        "for _ in range(26):\n",
        "    print(next(alphabet_iterator))\n"
      ],
      "metadata": {
        "id": "cqx-g_RsLo6I",
        "colab": {
          "base_uri": "https://localhost:8080/"
        },
        "outputId": "0815466e-d2fd-45d7-c34c-b245388f1077"
      },
      "execution_count": 13,
      "outputs": [
        {
          "output_type": "stream",
          "name": "stdout",
          "text": [
            "a\n",
            "b\n",
            "c\n",
            "d\n",
            "e\n",
            "f\n",
            "g\n",
            "h\n",
            "i\n",
            "j\n",
            "k\n",
            "l\n",
            "m\n",
            "n\n",
            "o\n",
            "p\n",
            "q\n",
            "r\n",
            "s\n",
            "t\n",
            "u\n",
            "v\n",
            "w\n",
            "x\n",
            "y\n",
            "z\n"
          ]
        }
      ]
    },
    {
      "cell_type": "markdown",
      "source": [
        "# Вітаю! Ви велика(ий) молодець, що впоралась(вся). Похваліть себе та побалуйте чимось приємним. Я Вами пишаюся."
      ],
      "metadata": {
        "id": "Z3E3S_s1Fv7-"
      }
    }
  ]
}